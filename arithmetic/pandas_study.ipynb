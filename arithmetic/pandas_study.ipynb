{
 "cells": [
  {
   "cell_type": "markdown",
   "metadata": {},
   "source": [
    "### pandas数据读取（先读取表格类型的数据）"
   ]
  },
  {
   "cell_type": "markdown",
   "metadata": {},
   "source": [
    "导入包"
   ]
  },
  {
   "cell_type": "code",
   "execution_count": 2,
   "metadata": {},
   "outputs": [],
   "source": [
    "import pandas as pd"
   ]
  },
  {
   "cell_type": "markdown",
   "metadata": {},
   "source": [
    "读取文件"
   ]
  },
  {
   "cell_type": "markdown",
   "metadata": {},
   "source": [
    "1. 读取纯文本文件（如csv,txt文件等）"
   ]
  },
  {
   "cell_type": "code",
   "execution_count": 10,
   "metadata": {},
   "outputs": [
    {
     "data": {
      "text/plain": [
       "(146, 33)"
      ]
     },
     "execution_count": 10,
     "metadata": {},
     "output_type": "execute_result"
    }
   ],
   "source": [
    "csv_file_path='2.csv'\n",
    "csv_file = pd.read_csv(csv_file_path)\n",
    "csv_file.head()   #查看前几行\n",
    "csv_file.columns  #查看每一列\n",
    "csv_file.index   #查看索引列\n",
    "csv_file.dtypes  #查看每一列的数据类型\n",
    "csv_file.shape   #查看形状，这里用来查看行数，列数"
   ]
  },
  {
   "cell_type": "code",
   "execution_count": null,
   "metadata": {},
   "outputs": [],
   "source": [
    "tx_file_path = 'test.txt'\n",
    "tx_file = pd.read_csv(\n",
    "    tx_file_path,\n",
    "    sep='\\t',\n",
    "    header=None,\n",
    "    names=['date','name','age']\n",
    "    )\n",
    "# txt文件需要设置分隔符为\\t，且其中没有标题行，但我们可以设置标题行，例如date,name,age这样以后可以方便使用"
   ]
  },
  {
   "cell_type": "markdown",
   "metadata": {},
   "source": [
    "2. 读取excel文件"
   ]
  },
  {
   "cell_type": "code",
   "execution_count": null,
   "metadata": {},
   "outputs": [],
   "source": [
    "exc_file_path = '附件1.xls'\n",
    "exc_file = pd.read_excel(exc_file_path)\n",
    "exc_file"
   ]
  },
  {
   "cell_type": "markdown",
   "metadata": {},
   "source": [
    "3. 读取mysql数据库"
   ]
  },
  {
   "cell_type": "code",
   "execution_count": null,
   "metadata": {},
   "outputs": [],
   "source": [
    "import pymysql\n",
    "\n",
    "#建立连接\n",
    "conn = pymysql.connect(\n",
    "    host='127.0.0.1',\n",
    "    user='root',\n",
    "    password='12345678',\n",
    "    database='test',\n",
    "    charset='utf8'\n",
    ")\n",
    "mysql_page = pd.read_sql('select * from table',con=conn)\n",
    "mysql_page"
   ]
  },
  {
   "cell_type": "markdown",
   "metadata": {},
   "source": [
    "数据结构分析（DataFrame , Series）\n",
    "\n",
    "1. DataFrame:二维或多维数据，代表整个表格，多行多列\n",
    "2. Series:一维数据，代表一行或一列"
   ]
  },
  {
   "cell_type": "code",
   "execution_count": 1,
   "metadata": {},
   "outputs": [],
   "source": [
    "import pandas as pd\n",
    "import numpy as np"
   ]
  },
  {
   "cell_type": "code",
   "execution_count": 4,
   "metadata": {},
   "outputs": [
    {
     "data": {
      "text/plain": [
       "array(['a', 2.2, 1, 7], dtype=object)"
      ]
     },
     "execution_count": 4,
     "metadata": {},
     "output_type": "execute_result"
    }
   ],
   "source": [
    "s1 = pd.Series(['a',2.2,1,7])\n",
    "s1\n",
    "s1.index\n",
    "s1.values"
   ]
  },
  {
   "cell_type": "markdown",
   "metadata": {},
   "source": [
    "       创建Series时还可以指定它的索引值"
   ]
  },
  {
   "cell_type": "code",
   "execution_count": 8,
   "metadata": {},
   "outputs": [
    {
     "data": {
      "text/plain": [
       "d      a\n",
       "b      2\n",
       "f    3.1\n",
       "dtype: object"
      ]
     },
     "execution_count": 8,
     "metadata": {},
     "output_type": "execute_result"
    }
   ],
   "source": [
    "s2 = pd.Series(['a',2,3.1],index=['d','b','f'])\n",
    "s2"
   ]
  },
  {
   "cell_type": "markdown",
   "metadata": {},
   "source": [
    "        可以使用python字典来创建Series"
   ]
  },
  {
   "cell_type": "code",
   "execution_count": 6,
   "metadata": {},
   "outputs": [
    {
     "data": {
      "text/plain": [
       "name    itachi\n",
       "age         13\n",
       "suki    tamako\n",
       "dtype: object"
      ]
     },
     "execution_count": 6,
     "metadata": {},
     "output_type": "execute_result"
    }
   ],
   "source": [
    "s3 = pd.Series({'name':'itachi','age':13,'suki':'tamako'})\n",
    "s3"
   ]
  },
  {
   "cell_type": "markdown",
   "metadata": {},
   "source": [
    "        可以使用字典方法来查询数据"
   ]
  },
  {
   "cell_type": "code",
   "execution_count": 15,
   "metadata": {},
   "outputs": [
    {
     "data": {
      "text/plain": [
       "pandas.core.series.Series"
      ]
     },
     "execution_count": 15,
     "metadata": {},
     "output_type": "execute_result"
    }
   ],
   "source": [
    "s2['d']\n",
    "type(s2['b'])\n",
    "s2[['d','b']]\n",
    "type(s2[['d','b']])"
   ]
  },
  {
   "cell_type": "markdown",
   "metadata": {},
   "source": [
    "        创建DataFrames时最常见的方法是直接通过读取纯文本文件、Excel、mysql数据库等\n",
    "        除此之外，可以根据多个字典序列创建dataframe"
   ]
  },
  {
   "cell_type": "code",
   "execution_count": null,
   "metadata": {},
   "outputs": [],
   "source": [
    "# All arrays must be of the same length\n",
    "data = {\n",
    "    'state':['ohio','ohio','hina','nevada','itachi'],\n",
    "    'year':[2000,2001,2002,2001,2003],\n",
    "    'pop':[1.1,1.5,2.7,3.6,2.4]\n",
    "}\n",
    "df = pd.DataFrame(data)\n",
    "df\n",
    "df.dtypes   #每一列的类型是什么\n",
    "df.columns\n",
    "df.index"
   ]
  },
  {
   "cell_type": "markdown",
   "metadata": {},
   "source": []
  }
 ],
 "metadata": {
  "interpreter": {
   "hash": "aee8b7b246df8f9039afb4144a1f6fd8d2ca17a180786b69acc140d282b71a49"
  },
  "kernelspec": {
   "display_name": "Python 3.10.1 64-bit",
   "language": "python",
   "name": "python3"
  },
  "language_info": {
   "codemirror_mode": {
    "name": "ipython",
    "version": 3
   },
   "file_extension": ".py",
   "mimetype": "text/x-python",
   "name": "python",
   "nbconvert_exporter": "python",
   "pygments_lexer": "ipython3",
   "version": "3.10.1"
  },
  "orig_nbformat": 4
 },
 "nbformat": 4,
 "nbformat_minor": 2
}
